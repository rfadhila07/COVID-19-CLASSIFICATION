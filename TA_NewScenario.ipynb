{
  "nbformat": 4,
  "nbformat_minor": 0,
  "metadata": {
    "colab": {
      "name": "TA_NewScenario.ipynb",
      "provenance": [],
      "collapsed_sections": [],
      "include_colab_link": true
    },
    "kernelspec": {
      "name": "python3",
      "display_name": "Python 3"
    },
    "language_info": {
      "name": "python"
    },
    "accelerator": "GPU"
  },
  "cells": [
    {
      "cell_type": "markdown",
      "metadata": {
        "id": "view-in-github",
        "colab_type": "text"
      },
      "source": [
        "<a href=\"https://colab.research.google.com/github/rfadhila07/Test-result/blob/main/TA_NewScenario.ipynb\" target=\"_parent\"><img src=\"https://colab.research.google.com/assets/colab-badge.svg\" alt=\"Open In Colab\"/></a>"
      ]
    },
    {
      "cell_type": "code",
      "metadata": {
        "colab": {
          "base_uri": "https://localhost:8080/"
        },
        "id": "qe-rJZTxEbAq",
        "outputId": "9cc8b8a4-48f6-41c2-e96e-199758f68b49"
      },
      "source": [
        "#Connect your Google Drive \n",
        "from google.colab import drive\n",
        "drive.mount('/content/drive')"
      ],
      "execution_count": 1,
      "outputs": [
        {
          "output_type": "stream",
          "text": [
            "Mounted at /content/drive\n"
          ],
          "name": "stdout"
        }
      ]
    },
    {
      "cell_type": "code",
      "metadata": {
        "id": "kUer0bZKEe_T"
      },
      "source": [
        "import numpy as np\n",
        "import os\n",
        "from imutils import paths\n",
        "from PIL import Image\n",
        "import matplotlib.pyplot as plt\n",
        "import keras\n",
        "from keras.models import Sequential\n",
        "from keras.layers.convolutional import Conv2D\n",
        "from keras.layers.convolutional import MaxPooling2D\n",
        "from keras.layers.core import Activation\n",
        "from keras.layers.core import Flatten\n",
        "from keras.layers.core import Dense\n",
        "from keras.layers import GlobalAveragePooling2D, BatchNormalization, Dropout\n",
        "from keras.applications.vgg16 import VGG16\n",
        "from keras.models import Model\n",
        "import tensorflow as tf\n",
        "import cv2\n",
        "import io\n",
        "from skimage.filters import gaussian\n",
        "from skimage import exposure\n",
        "import matplotlib.image as mpimg\n",
        "import tensorflow\n",
        "from tensorflow.keras import Model, Input\n",
        "from tensorflow.keras.layers import Conv2D, MaxPooling2D, Dense, ReLU, BatchNormalization\n",
        "from tensorflow.keras.layers import Add, GlobalAveragePooling2D\n",
        "from skimage import io\n",
        "from sklearn.preprocessing import LabelEncoder\n",
        "from sklearn.model_selection import train_test_split\n",
        "from keras.callbacks import EarlyStopping, ModelCheckpoint\n",
        "from keras.optimizers import Adam, SGD, RMSprop, Adamax, Nadam\n",
        "from sklearn.metrics import confusion_matrix, ConfusionMatrixDisplay, classification_report\n",
        "from keras import backend as k\n",
        "from keras.preprocessing.image import ImageDataGenerator\n",
        "\n",
        "import keras\n",
        "import numpy as np\n",
        "import cv2\n",
        "import os\n",
        "import random\n",
        "import shutil\n",
        "import pandas as pd\n",
        "import csv\n",
        "import zipfile\n",
        "from keras import optimizers\n",
        "from keras.models import Sequential,Model\n",
        "from keras.layers import Dropout, Flatten, Dense,Input, Conv2D, MaxPooling2D\n",
        "from keras.applications.resnet_v2 import ResNet50V2\n",
        "from keras.applications.xception import Xception\n",
        "from keras.applications.resnet50 import ResNet50\n",
        "from keras.applications.vgg16 import VGG16\n",
        "from keras.callbacks import ModelCheckpoint\n",
        "from keras.applications.imagenet_utils import preprocess_input\n",
        "from keras import backend as K\n",
        "from keras.preprocessing.image import ImageDataGenerator\n",
        "from keras.initializers import RandomNormal\n",
        "import keras.backend as k\n",
        "from sklearn.utils import shuffle\n",
        "import io\n",
        "from PIL import Image as pil_image\n",
        "# from keras_retinanet import layers\n",
        "import keras.backend as k\n",
        "# import keras_retinanet"
      ],
      "execution_count": 2,
      "outputs": []
    },
    {
      "cell_type": "code",
      "metadata": {
        "id": "TOqR32OLElDQ"
      },
      "source": [
        "fold_num=1 #Select Fold Number"
      ],
      "execution_count": 3,
      "outputs": []
    },
    {
      "cell_type": "code",
      "metadata": {
        "id": "WUrp6Ew1EqES"
      },
      "source": [
        "#Here we set the data generators for applying data augmentation methods\n",
        "train_datagen = ImageDataGenerator()#horizontal_flip=True,vertical_flip=True,zoom_range=0.05,rotation_range=360,width_shift_range=0.05,height_shift_range=0.05,shear_range=0.05)\n",
        "test_datagen = ImageDataGenerator()\n",
        "train_df =pd.read_csv('/content/drive/MyDrive/COVID-CTset/CSV/train{}.csv'.format(fold_num)) #raed train csv file\n",
        "validation_df = pd.read_csv('/content/drive/MyDrive/COVID-CTset/CSV/validation{}.csv'.format(fold_num)) #raed validation csv file (Validation in the training process)\n",
        "train_df = shuffle(train_df) #Shuffle the train data\n",
        "test_df = pd.read_csv('/content/drive/MyDrive/COVID-CTset/CSV/test{}.csv'.format(fold_num))#raed test csv file (For evaluating the final version of th"
      ],
      "execution_count": 4,
      "outputs": []
    },
    {
      "cell_type": "code",
      "metadata": {
        "colab": {
          "base_uri": "https://localhost:8080/",
          "height": 423
        },
        "id": "qYQYl3s5EsN9",
        "outputId": "cb1a07a3-d413-4bbb-c944-35a2ff30a1c6"
      },
      "source": [
        "# generating one row \n",
        "train_df = train_df.sample(n =1900, random_state=1)\n",
        "    \n",
        "# display\n",
        "train_df"
      ],
      "execution_count": 5,
      "outputs": [
        {
          "output_type": "execute_result",
          "data": {
            "text/html": [
              "<div>\n",
              "<style scoped>\n",
              "    .dataframe tbody tr th:only-of-type {\n",
              "        vertical-align: middle;\n",
              "    }\n",
              "\n",
              "    .dataframe tbody tr th {\n",
              "        vertical-align: top;\n",
              "    }\n",
              "\n",
              "    .dataframe thead th {\n",
              "        text-align: right;\n",
              "    }\n",
              "</style>\n",
              "<table border=\"1\" class=\"dataframe\">\n",
              "  <thead>\n",
              "    <tr style=\"text-align: right;\">\n",
              "      <th></th>\n",
              "      <th>filename</th>\n",
              "      <th>class</th>\n",
              "    </tr>\n",
              "  </thead>\n",
              "  <tbody>\n",
              "    <tr>\n",
              "      <th>525</th>\n",
              "      <td>137covid_patient92_SR_2_IM00007.tif</td>\n",
              "      <td>covid</td>\n",
              "    </tr>\n",
              "    <tr>\n",
              "      <th>1785</th>\n",
              "      <td>157covid_patient140_SR_4_IM00021.tif</td>\n",
              "      <td>covid</td>\n",
              "    </tr>\n",
              "    <tr>\n",
              "      <th>300</th>\n",
              "      <td>137covid_patient63_SR_2_IM00027.tif</td>\n",
              "      <td>covid</td>\n",
              "    </tr>\n",
              "    <tr>\n",
              "      <th>2951</th>\n",
              "      <td>normal1_patient185_SR_2_IM00025.tif</td>\n",
              "      <td>normal</td>\n",
              "    </tr>\n",
              "    <tr>\n",
              "      <th>3064</th>\n",
              "      <td>normal1_patient189_SR_2_IM00010.tif</td>\n",
              "      <td>normal</td>\n",
              "    </tr>\n",
              "    <tr>\n",
              "      <th>...</th>\n",
              "      <td>...</td>\n",
              "      <td>...</td>\n",
              "    </tr>\n",
              "    <tr>\n",
              "      <th>3473</th>\n",
              "      <td>normal4_patient186_SR_2_IM00043.tif</td>\n",
              "      <td>normal</td>\n",
              "    </tr>\n",
              "    <tr>\n",
              "      <th>2243</th>\n",
              "      <td>cdunnormal_patient160_SR_2_IM00036.tif</td>\n",
              "      <td>normal</td>\n",
              "    </tr>\n",
              "    <tr>\n",
              "      <th>869</th>\n",
              "      <td>137covid_patient45_SR_3_IM00007.tif</td>\n",
              "      <td>covid</td>\n",
              "    </tr>\n",
              "    <tr>\n",
              "      <th>1824</th>\n",
              "      <td>cdnormal4_patient146_SR_2_IM00010.tif</td>\n",
              "      <td>normal</td>\n",
              "    </tr>\n",
              "    <tr>\n",
              "      <th>1784</th>\n",
              "      <td>157covid_patient136_SR_4_IM00021.tif</td>\n",
              "      <td>covid</td>\n",
              "    </tr>\n",
              "  </tbody>\n",
              "</table>\n",
              "<p>1900 rows × 2 columns</p>\n",
              "</div>"
            ],
            "text/plain": [
              "                                    filename   class\n",
              "525      137covid_patient92_SR_2_IM00007.tif   covid\n",
              "1785    157covid_patient140_SR_4_IM00021.tif   covid\n",
              "300      137covid_patient63_SR_2_IM00027.tif   covid\n",
              "2951     normal1_patient185_SR_2_IM00025.tif  normal\n",
              "3064     normal1_patient189_SR_2_IM00010.tif  normal\n",
              "...                                      ...     ...\n",
              "3473     normal4_patient186_SR_2_IM00043.tif  normal\n",
              "2243  cdunnormal_patient160_SR_2_IM00036.tif  normal\n",
              "869      137covid_patient45_SR_3_IM00007.tif   covid\n",
              "1824   cdnormal4_patient146_SR_2_IM00010.tif  normal\n",
              "1784    157covid_patient136_SR_4_IM00021.tif   covid\n",
              "\n",
              "[1900 rows x 2 columns]"
            ]
          },
          "metadata": {
            "tags": []
          },
          "execution_count": 5
        }
      ]
    },
    {
      "cell_type": "code",
      "metadata": {
        "colab": {
          "base_uri": "https://localhost:8080/",
          "height": 143
        },
        "id": "se_JIsa-EvkC",
        "outputId": "5729a886-500b-47d0-e745-2ffc8f5d31c5"
      },
      "source": [
        "train_df.groupby('class').count()"
      ],
      "execution_count": 6,
      "outputs": [
        {
          "output_type": "execute_result",
          "data": {
            "text/html": [
              "<div>\n",
              "<style scoped>\n",
              "    .dataframe tbody tr th:only-of-type {\n",
              "        vertical-align: middle;\n",
              "    }\n",
              "\n",
              "    .dataframe tbody tr th {\n",
              "        vertical-align: top;\n",
              "    }\n",
              "\n",
              "    .dataframe thead th {\n",
              "        text-align: right;\n",
              "    }\n",
              "</style>\n",
              "<table border=\"1\" class=\"dataframe\">\n",
              "  <thead>\n",
              "    <tr style=\"text-align: right;\">\n",
              "      <th></th>\n",
              "      <th>filename</th>\n",
              "    </tr>\n",
              "    <tr>\n",
              "      <th>class</th>\n",
              "      <th></th>\n",
              "    </tr>\n",
              "  </thead>\n",
              "  <tbody>\n",
              "    <tr>\n",
              "      <th>covid</th>\n",
              "      <td>933</td>\n",
              "    </tr>\n",
              "    <tr>\n",
              "      <th>normal</th>\n",
              "      <td>967</td>\n",
              "    </tr>\n",
              "  </tbody>\n",
              "</table>\n",
              "</div>"
            ],
            "text/plain": [
              "        filename\n",
              "class           \n",
              "covid        933\n",
              "normal       967"
            ]
          },
          "metadata": {
            "tags": []
          },
          "execution_count": 6
        }
      ]
    },
    {
      "cell_type": "code",
      "metadata": {
        "colab": {
          "base_uri": "https://localhost:8080/",
          "height": 423
        },
        "id": "SOkI0Ih0Exaa",
        "outputId": "a6b7850c-04a3-4025-fdff-54d6cc14f800"
      },
      "source": [
        "# generating one row\n",
        "validation_df = validation_df.sample(n = 475, random_state = 1)\n",
        "    \n",
        "# display\n",
        "validation_df"
      ],
      "execution_count": 7,
      "outputs": [
        {
          "output_type": "execute_result",
          "data": {
            "text/html": [
              "<div>\n",
              "<style scoped>\n",
              "    .dataframe tbody tr th:only-of-type {\n",
              "        vertical-align: middle;\n",
              "    }\n",
              "\n",
              "    .dataframe tbody tr th {\n",
              "        vertical-align: top;\n",
              "    }\n",
              "\n",
              "    .dataframe thead th {\n",
              "        text-align: right;\n",
              "    }\n",
              "</style>\n",
              "<table border=\"1\" class=\"dataframe\">\n",
              "  <thead>\n",
              "    <tr style=\"text-align: right;\">\n",
              "      <th></th>\n",
              "      <th>filename</th>\n",
              "      <th>class</th>\n",
              "    </tr>\n",
              "  </thead>\n",
              "  <tbody>\n",
              "    <tr>\n",
              "      <th>191</th>\n",
              "      <td>137covid_patient105_SR_3_IM00020.tif</td>\n",
              "      <td>covid</td>\n",
              "    </tr>\n",
              "    <tr>\n",
              "      <th>832</th>\n",
              "      <td>normal2_patient314_SR_2_IM00033.tif</td>\n",
              "      <td>normal</td>\n",
              "    </tr>\n",
              "    <tr>\n",
              "      <th>111</th>\n",
              "      <td>137covid_patient120_SR_2_IM00022.tif</td>\n",
              "      <td>covid</td>\n",
              "    </tr>\n",
              "    <tr>\n",
              "      <th>262</th>\n",
              "      <td>137covid_patient120_SR_3_IM00025.tif</td>\n",
              "      <td>covid</td>\n",
              "    </tr>\n",
              "    <tr>\n",
              "      <th>670</th>\n",
              "      <td>normal5_patient226_SR_2_IM00024.tif</td>\n",
              "      <td>normal</td>\n",
              "    </tr>\n",
              "    <tr>\n",
              "      <th>...</th>\n",
              "      <td>...</td>\n",
              "      <td>...</td>\n",
              "    </tr>\n",
              "    <tr>\n",
              "      <th>865</th>\n",
              "      <td>normalcd1_patient412_SR_2_IM00032.tif</td>\n",
              "      <td>normal</td>\n",
              "    </tr>\n",
              "    <tr>\n",
              "      <th>304</th>\n",
              "      <td>137covid_patient18_SR_3_IM00013.tif</td>\n",
              "      <td>covid</td>\n",
              "    </tr>\n",
              "    <tr>\n",
              "      <th>200</th>\n",
              "      <td>137covid_patient10_SR_3_IM00016.tif</td>\n",
              "      <td>covid</td>\n",
              "    </tr>\n",
              "    <tr>\n",
              "      <th>394</th>\n",
              "      <td>137covid_patient118_SR_4_IM00010.tif</td>\n",
              "      <td>covid</td>\n",
              "    </tr>\n",
              "    <tr>\n",
              "      <th>869</th>\n",
              "      <td>normal3_patient352_SR_2_IM00017.tif</td>\n",
              "      <td>normal</td>\n",
              "    </tr>\n",
              "  </tbody>\n",
              "</table>\n",
              "<p>475 rows × 2 columns</p>\n",
              "</div>"
            ],
            "text/plain": [
              "                                  filename   class\n",
              "191   137covid_patient105_SR_3_IM00020.tif   covid\n",
              "832    normal2_patient314_SR_2_IM00033.tif  normal\n",
              "111   137covid_patient120_SR_2_IM00022.tif   covid\n",
              "262   137covid_patient120_SR_3_IM00025.tif   covid\n",
              "670    normal5_patient226_SR_2_IM00024.tif  normal\n",
              "..                                     ...     ...\n",
              "865  normalcd1_patient412_SR_2_IM00032.tif  normal\n",
              "304    137covid_patient18_SR_3_IM00013.tif   covid\n",
              "200    137covid_patient10_SR_3_IM00016.tif   covid\n",
              "394   137covid_patient118_SR_4_IM00010.tif   covid\n",
              "869    normal3_patient352_SR_2_IM00017.tif  normal\n",
              "\n",
              "[475 rows x 2 columns]"
            ]
          },
          "metadata": {
            "tags": []
          },
          "execution_count": 7
        }
      ]
    },
    {
      "cell_type": "code",
      "metadata": {
        "colab": {
          "base_uri": "https://localhost:8080/",
          "height": 143
        },
        "id": "1SsY9hbaE16B",
        "outputId": "73467416-60b8-4838-969c-b00245bc729d"
      },
      "source": [
        "validation_df.groupby('class').count()"
      ],
      "execution_count": 8,
      "outputs": [
        {
          "output_type": "execute_result",
          "data": {
            "text/html": [
              "<div>\n",
              "<style scoped>\n",
              "    .dataframe tbody tr th:only-of-type {\n",
              "        vertical-align: middle;\n",
              "    }\n",
              "\n",
              "    .dataframe tbody tr th {\n",
              "        vertical-align: top;\n",
              "    }\n",
              "\n",
              "    .dataframe thead th {\n",
              "        text-align: right;\n",
              "    }\n",
              "</style>\n",
              "<table border=\"1\" class=\"dataframe\">\n",
              "  <thead>\n",
              "    <tr style=\"text-align: right;\">\n",
              "      <th></th>\n",
              "      <th>filename</th>\n",
              "    </tr>\n",
              "    <tr>\n",
              "      <th>class</th>\n",
              "      <th></th>\n",
              "    </tr>\n",
              "  </thead>\n",
              "  <tbody>\n",
              "    <tr>\n",
              "      <th>covid</th>\n",
              "      <td>244</td>\n",
              "    </tr>\n",
              "    <tr>\n",
              "      <th>normal</th>\n",
              "      <td>231</td>\n",
              "    </tr>\n",
              "  </tbody>\n",
              "</table>\n",
              "</div>"
            ],
            "text/plain": [
              "        filename\n",
              "class           \n",
              "covid        244\n",
              "normal       231"
            ]
          },
          "metadata": {
            "tags": []
          },
          "execution_count": 8
        }
      ]
    },
    {
      "cell_type": "code",
      "metadata": {
        "id": "7nSJKiX3E4uE"
      },
      "source": [
        "test_df = test_df.drop(test_df[test_df['class']=='normal'].sample(frac =.94).index)"
      ],
      "execution_count": 9,
      "outputs": []
    },
    {
      "cell_type": "code",
      "metadata": {
        "colab": {
          "base_uri": "https://localhost:8080/",
          "height": 423
        },
        "id": "lPIBN-g6E78O",
        "outputId": "8f025d77-7ab8-42ef-e2ce-112c059908be"
      },
      "source": [
        "# generating one row\n",
        "test_df = test_df.sample(n =200, random_state=1)\n",
        "    \n",
        "# display\n",
        "test_df"
      ],
      "execution_count": 10,
      "outputs": [
        {
          "output_type": "execute_result",
          "data": {
            "text/html": [
              "<div>\n",
              "<style scoped>\n",
              "    .dataframe tbody tr th:only-of-type {\n",
              "        vertical-align: middle;\n",
              "    }\n",
              "\n",
              "    .dataframe tbody tr th {\n",
              "        vertical-align: top;\n",
              "    }\n",
              "\n",
              "    .dataframe thead th {\n",
              "        text-align: right;\n",
              "    }\n",
              "</style>\n",
              "<table border=\"1\" class=\"dataframe\">\n",
              "  <thead>\n",
              "    <tr style=\"text-align: right;\">\n",
              "      <th></th>\n",
              "      <th>filename</th>\n",
              "      <th>class</th>\n",
              "    </tr>\n",
              "  </thead>\n",
              "  <tbody>\n",
              "    <tr>\n",
              "      <th>363</th>\n",
              "      <td>137covid_patient115_SR_4_IM00004.tif</td>\n",
              "      <td>covid</td>\n",
              "    </tr>\n",
              "    <tr>\n",
              "      <th>41</th>\n",
              "      <td>137covid_patient10_SR_2_IM00024.tif</td>\n",
              "      <td>covid</td>\n",
              "    </tr>\n",
              "    <tr>\n",
              "      <th>6974</th>\n",
              "      <td>normal5_patient388_SR_2_IM00011.tif</td>\n",
              "      <td>normal</td>\n",
              "    </tr>\n",
              "    <tr>\n",
              "      <th>1616</th>\n",
              "      <td>normal1_patient234_SR_2_IM00026.tif</td>\n",
              "      <td>normal</td>\n",
              "    </tr>\n",
              "    <tr>\n",
              "      <th>35</th>\n",
              "      <td>137covid_patient10_SR_2_IM00015.tif</td>\n",
              "      <td>covid</td>\n",
              "    </tr>\n",
              "    <tr>\n",
              "      <th>...</th>\n",
              "      <td>...</td>\n",
              "      <td>...</td>\n",
              "    </tr>\n",
              "    <tr>\n",
              "      <th>5574</th>\n",
              "      <td>normal4_patient225_SR_2_IM00018.tif</td>\n",
              "      <td>normal</td>\n",
              "    </tr>\n",
              "    <tr>\n",
              "      <th>354</th>\n",
              "      <td>137covid_patient105_SR_4_IM00121.tif</td>\n",
              "      <td>covid</td>\n",
              "    </tr>\n",
              "    <tr>\n",
              "      <th>6662</th>\n",
              "      <td>normal5_patient226_SR_2_IM00009.tif</td>\n",
              "      <td>normal</td>\n",
              "    </tr>\n",
              "    <tr>\n",
              "      <th>241</th>\n",
              "      <td>137covid_patient118_SR_3_IM00014.tif</td>\n",
              "      <td>covid</td>\n",
              "    </tr>\n",
              "    <tr>\n",
              "      <th>135</th>\n",
              "      <td>137covid_patient15_SR_2_IM00010.tif</td>\n",
              "      <td>covid</td>\n",
              "    </tr>\n",
              "  </tbody>\n",
              "</table>\n",
              "<p>200 rows × 2 columns</p>\n",
              "</div>"
            ],
            "text/plain": [
              "                                  filename   class\n",
              "363   137covid_patient115_SR_4_IM00004.tif   covid\n",
              "41     137covid_patient10_SR_2_IM00024.tif   covid\n",
              "6974   normal5_patient388_SR_2_IM00011.tif  normal\n",
              "1616   normal1_patient234_SR_2_IM00026.tif  normal\n",
              "35     137covid_patient10_SR_2_IM00015.tif   covid\n",
              "...                                    ...     ...\n",
              "5574   normal4_patient225_SR_2_IM00018.tif  normal\n",
              "354   137covid_patient105_SR_4_IM00121.tif   covid\n",
              "6662   normal5_patient226_SR_2_IM00009.tif  normal\n",
              "241   137covid_patient118_SR_3_IM00014.tif   covid\n",
              "135    137covid_patient15_SR_2_IM00010.tif   covid\n",
              "\n",
              "[200 rows x 2 columns]"
            ]
          },
          "metadata": {
            "tags": []
          },
          "execution_count": 10
        }
      ]
    },
    {
      "cell_type": "code",
      "metadata": {
        "colab": {
          "base_uri": "https://localhost:8080/",
          "height": 143
        },
        "id": "HhUumZznE-I8",
        "outputId": "604de4f7-c4e1-4d91-9105-a744ac5c8f3f"
      },
      "source": [
        "test_df.groupby('class').count()"
      ],
      "execution_count": 11,
      "outputs": [
        {
          "output_type": "execute_result",
          "data": {
            "text/html": [
              "<div>\n",
              "<style scoped>\n",
              "    .dataframe tbody tr th:only-of-type {\n",
              "        vertical-align: middle;\n",
              "    }\n",
              "\n",
              "    .dataframe tbody tr th {\n",
              "        vertical-align: top;\n",
              "    }\n",
              "\n",
              "    .dataframe thead th {\n",
              "        text-align: right;\n",
              "    }\n",
              "</style>\n",
              "<table border=\"1\" class=\"dataframe\">\n",
              "  <thead>\n",
              "    <tr style=\"text-align: right;\">\n",
              "      <th></th>\n",
              "      <th>filename</th>\n",
              "    </tr>\n",
              "    <tr>\n",
              "      <th>class</th>\n",
              "      <th></th>\n",
              "    </tr>\n",
              "  </thead>\n",
              "  <tbody>\n",
              "    <tr>\n",
              "      <th>covid</th>\n",
              "      <td>93</td>\n",
              "    </tr>\n",
              "    <tr>\n",
              "      <th>normal</th>\n",
              "      <td>107</td>\n",
              "    </tr>\n",
              "  </tbody>\n",
              "</table>\n",
              "</div>"
            ],
            "text/plain": [
              "        filename\n",
              "class           \n",
              "covid         93\n",
              "normal       107"
            ]
          },
          "metadata": {
            "tags": []
          },
          "execution_count": 11
        }
      ]
    },
    {
      "cell_type": "code",
      "metadata": {
        "colab": {
          "base_uri": "https://localhost:8080/"
        },
        "id": "_76ZLLbE1u7v",
        "outputId": "b52a5674-57fe-49c1-f316-b431a25be1a3"
      },
      "source": [
        "cd /content/drive/MyDrive/CLAHEonly/Test/"
      ],
      "execution_count": 12,
      "outputs": [
        {
          "output_type": "stream",
          "text": [
            "/content/drive/MyDrive/CLAHEonly/Test\n"
          ],
          "name": "stdout"
        }
      ]
    },
    {
      "cell_type": "code",
      "metadata": {
        "id": "b5NLWRAxFAvX"
      },
      "source": [
        "shape=(224,224,3) #shape of the dataset images (in TIFF format)"
      ],
      "execution_count": 14,
      "outputs": []
    },
    {
      "cell_type": "code",
      "metadata": {
        "colab": {
          "base_uri": "https://localhost:8080/"
        },
        "id": "ymfzPHtUFCWF",
        "outputId": "1b06f1f6-0b49-43db-bab9-9121ac5ba2dc"
      },
      "source": [
        "#Create the generators\n",
        "train_generator = train_datagen.flow_from_dataframe(\n",
        "      dataframe=train_df,\n",
        "      directory='/content/drive/MyDrive/CLAHEonly/Test/',\n",
        "      x_col=\"filename\",\n",
        "      y_col=\"class\",\n",
        "      target_size=shape[:2],\n",
        "      batch_size=32,\n",
        "      class_mode='categorical',color_mode=\"rgb\",shuffle=True)\n",
        "validation_generator = test_datagen.flow_from_dataframe(\n",
        "        dataframe=validation_df,\n",
        "        directory='/content/drive/MyDrive/CLAHEonly/Test/',\n",
        "        x_col=\"filename\",\n",
        "        y_col=\"class\",\n",
        "        target_size=shape[:2],\n",
        "        batch_size=32,\n",
        "        class_mode='categorical',color_mode=\"rgb\",shuffle=True)\n",
        "test_generator = test_datagen.flow_from_dataframe(\n",
        "        dataframe=test_df,\n",
        "        directory='/content/drive/MyDrive/CLAHEonly/Test/',\n",
        "        x_col=\"filename\",\n",
        "        y_col=\"class\",\n",
        "        target_size=shape[:2],\n",
        "        batch_size=32,\n",
        "        class_mode='categorical',color_mode=\"rgb\",shuffle=True)"
      ],
      "execution_count": 15,
      "outputs": [
        {
          "output_type": "stream",
          "text": [
            "Found 1900 validated image filenames belonging to 2 classes.\n",
            "Found 475 validated image filenames belonging to 2 classes.\n",
            "Found 200 validated image filenames belonging to 2 classes.\n"
          ],
          "name": "stdout"
        }
      ]
    },
    {
      "cell_type": "code",
      "metadata": {
        "id": "2GvuftHbFEsi"
      },
      "source": [
        "data = []\n",
        "for num,img_name in enumerate(train_generator.filenames): #load image\n",
        "    # gt_ind=test_generator.classes[num] #get the loaded image class index\n",
        "    img=cv2.imread(os.path.join('/content/drive/MyDrive/CLAHEonly/Test/',img_name),-1)\n",
        "    img = cv2.cvtColor(img, cv2.COLOR_BGR2RGB)\n",
        "    img = np.array(img)\n",
        "    data.append(img)"
      ],
      "execution_count": 16,
      "outputs": []
    },
    {
      "cell_type": "code",
      "metadata": {
        "colab": {
          "base_uri": "https://localhost:8080/",
          "height": 287
        },
        "id": "qdOIF5mqFP40",
        "outputId": "debd79db-22c8-4aed-9fcc-31d813680cba"
      },
      "source": [
        "plt.imshow(data[1])"
      ],
      "execution_count": 17,
      "outputs": [
        {
          "output_type": "execute_result",
          "data": {
            "text/plain": [
              "<matplotlib.image.AxesImage at 0x7f6184086c10>"
            ]
          },
          "metadata": {
            "tags": []
          },
          "execution_count": 17
        },
        {
          "output_type": "display_data",
          "data": {
            "image/png": "[encoded data removed]",
            "text/plain": [
              "<Figure size 432x288 with 1 Axes>"
            ]
          },
          "metadata": {
            "tags": [],
            "needs_background": "light"
          }
        }
      ]
    },
    {
      "cell_type": "code",
      "metadata": {
        "colab": {
          "base_uri": "https://localhost:8080/"
        },
        "id": "AIBBGMruFQYm",
        "outputId": "71651bb9-372f-4585-b738-811178604610"
      },
      "source": [
        "data = np.array(data)\n",
        "data.shape"
      ],
      "execution_count": 18,
      "outputs": [
        {
          "output_type": "execute_result",
          "data": {
            "text/plain": [
              "(1900, 224, 224, 3)"
            ]
          },
          "metadata": {
            "tags": []
          },
          "execution_count": 18
        }
      ]
    },
    {
      "cell_type": "code",
      "metadata": {
        "colab": {
          "base_uri": "https://localhost:8080/"
        },
        "id": "ZfrJXOeQFTzl",
        "outputId": "8567d87b-4f92-48e6-cd8c-4b20f3a7f0c5"
      },
      "source": [
        "from sklearn.model_selection import train_test_split\n",
        "# perform a training and testing split, using 75% of the data for\n",
        "# training and 25% for evaluation\n",
        "(trainX, testX, trainY, testY) = train_test_split(np.array(data),\tnp.array(train_generator.classes), test_size=0.25)\n",
        "#trainY = np.asarray(trainY).astype('float32').reshape((-1,1))\n",
        "#testY = np.asarray(testY).astype('float32').reshape((-1,1))\n",
        "print(trainX.shape)\n",
        "print(testX.shape)\n",
        "print(trainY.shape)\n",
        "print(testY.shape)"
      ],
      "execution_count": 19,
      "outputs": [
        {
          "output_type": "stream",
          "text": [
            "(1425, 224, 224, 3)\n",
            "(475, 224, 224, 3)\n",
            "(1425,)\n",
            "(475,)\n"
          ],
          "name": "stdout"
        }
      ]
    },
    {
      "cell_type": "code",
      "metadata": {
        "id": "ZRMc7G0VFXIB"
      },
      "source": [
        "k.clear_session()\n",
        "def stem(inputs):\n",
        "    \"\"\" Construct the Stem Convolution Group\n",
        "        inputs : input vector\n",
        "    \"\"\"\n",
        "    # First Convolutional layer, where pooled feature maps will be reduced by 75%\n",
        "    x = Conv2D(64, (7, 7), strides=(2, 2), padding='same', activation='relu', kernel_initializer=\"he_normal\")(inputs)\n",
        "    x = MaxPooling2D((3, 3), strides=(2, 2), padding='same')(x)\n",
        "    return x\n",
        "    \n",
        "def learner(x):\n",
        "    \"\"\" Construct the Learner\n",
        "        x  : input to the learner\n",
        "    \"\"\"\n",
        "    # First Residual Block Group of 64 filters\n",
        "    x = residual_group(x, 64, 3)\n",
        "\n",
        "    # Second Residual Block Group of 128 filters\n",
        "    x = residual_group(x, 128, 3)\n",
        "\n",
        "    # Third Residual Block Group of 256 filters\n",
        "    x = residual_group(x, 256, 5)\n",
        "\n",
        "    # Fourth Residual Block Group of 512 filters\n",
        "    x = residual_group(x, 512, 2, False)\n",
        "    return x\n",
        "\n",
        "    \n",
        "def residual_group(x, n_filters, n_blocks, conv=True):\n",
        "    \"\"\" Construct a Residual Group\n",
        "        x        : input to the group\n",
        "        n_filters: number of filters\n",
        "        n_blocks : number of blocks in the group\n",
        "        conv     : flag to include the convolution block connector\n",
        "    \"\"\"\n",
        "    for _ in range(n_blocks):\n",
        "        x = residual_block(x, n_filters)\n",
        "\n",
        "    # Double the size of filters and reduce feature maps by 75% (strides=2, 2) to fit the next Residual Group\n",
        "    if conv:\n",
        "        x = conv_block(x, n_filters * 2)\n",
        "    return x\n",
        "\n",
        "def residual_block(x, n_filters):\n",
        "    \"\"\" Construct a Residual Block of Convolutions\n",
        "        x        : input into the block\n",
        "        n_filters: number of filters\n",
        "    \"\"\"\n",
        "    shortcut = x\n",
        "    x = Conv2D(n_filters, (3, 3), strides=(1, 1), padding=\"same\",\n",
        "                      activation=\"relu\", kernel_initializer=\"he_normal\")(x)\n",
        "    x = Conv2D(n_filters, (3, 3), strides=(1, 1), padding=\"same\",\n",
        "                      activation=\"relu\", kernel_initializer=\"he_normal\")(x)\n",
        "    x = Add()([shortcut, x])\n",
        "    return x\n",
        "\n",
        "def conv_block(x, n_filters):\n",
        "    \"\"\" Construct Block of Convolutions without Pooling\n",
        "        x        : input into the block\n",
        "        n_filters: number of filters\n",
        "    \"\"\"\n",
        "    x = Conv2D(n_filters, (3, 3), strides=(2, 2), padding=\"same\",\n",
        "                  activation=\"relu\", kernel_initializer=\"he_normal\")(x)\n",
        "    x = Conv2D(n_filters, (3, 3), strides=(2, 2), padding=\"same\",\n",
        "                  activation=\"relu\", kernel_initializer=\"he_normal\")(x)\n",
        "    return x\n",
        "    \n",
        "def classifier(x, n_classes):\n",
        "    \"\"\" Construct the Classifier Group\n",
        "        x         : input vector\n",
        "        n_classes : number of output classes\n",
        "    \"\"\"\n",
        "    # Pool at the end of all the convolutional residual blocks\n",
        "    x = GlobalAveragePooling2D()(x)\n",
        "\n",
        "    # Final Dense Outputting Layer for the outputs\n",
        "    outputs = Dense(n_classes, activation='softmax', kernel_initializer='he_normal')(x)\n",
        "    return outputs\n",
        "\n",
        "# The input tensor\n",
        "inputs = Input(shape=(224, 224, 3))\n",
        "\n",
        "# The Stem Convolution Group\n",
        "x = stem(inputs)\n",
        "\n",
        "# The learner\n",
        "x = learner(x)\n",
        "    \n",
        "# The Classifier for 1000 classes\n",
        "outputs = classifier(x, 2)\n",
        "\n",
        "# Instantiate the Model\n",
        "model = Model(inputs, outputs)"
      ],
      "execution_count": 21,
      "outputs": []
    },
    {
      "cell_type": "code",
      "metadata": {
        "id": "30cRQcbIFhED"
      },
      "source": [
        "from keras.callbacks import EarlyStopping, ModelCheckpoint\n",
        "es = EarlyStopping(monitor='val_loss',\n",
        "                   patience=5,\n",
        "                   mode='auto',\n",
        "                   restore_best_weights=True)\n",
        "checkpoint = ModelCheckpoint('best_weight_ResNetAdamTest.h5',\n",
        "                             monitor='val_accuracy',\n",
        "                             verbose=1,\n",
        "                             save_best_only=True,\n",
        "                             mode='auto')"
      ],
      "execution_count": 22,
      "outputs": []
    },
    {
      "cell_type": "code",
      "metadata": {
        "colab": {
          "base_uri": "https://localhost:8080/"
        },
        "id": "lbVk0DuzFlVT",
        "outputId": "c3089dd7-0648-4d1e-829d-79f86c2c5721"
      },
      "source": [
        "from keras.optimizers import Adam, SGD, RMSprop, Adamax\n",
        "\n",
        "# train the model using the Adam optimizer\n",
        "print(\"[INFO] training network...\")\n",
        "opt = Adamax(learning_rate=0.01,decay=1e-6)\n",
        "model.compile(loss=\"sparse_categorical_crossentropy\", optimizer=opt, metrics=[\"accuracy\"])\n",
        "H = model.fit(trainX, trainY, validation_data=(testX, testY), epochs=50, batch_size=32, callbacks=[es,checkpoint])"
      ],
      "execution_count": 25,
      "outputs": [
        {
          "output_type": "stream",
          "text": [
            "[INFO] training network...\n",
            "Epoch 1/50\n",
            "45/45 [==============================] - 9s 132ms/step - loss: 0.6953 - accuracy: 0.4950 - val_loss: 0.6949 - val_accuracy: 0.4842\n",
            "\n",
            "Epoch 00001: val_accuracy did not improve from 0.48421\n",
            "Epoch 2/50\n",
            "45/45 [==============================] - 5s 107ms/step - loss: 0.6930 - accuracy: 0.5135 - val_loss: 0.6949 - val_accuracy: 0.4842\n",
            "\n",
            "Epoch 00002: val_accuracy did not improve from 0.48421\n",
            "Epoch 3/50\n",
            "45/45 [==============================] - 5s 107ms/step - loss: 0.6928 - accuracy: 0.5205 - val_loss: 0.6943 - val_accuracy: 0.4842\n",
            "\n",
            "Epoch 00003: val_accuracy did not improve from 0.48421\n",
            "Epoch 4/50\n",
            "45/45 [==============================] - 5s 107ms/step - loss: 0.6927 - accuracy: 0.5186 - val_loss: 0.6947 - val_accuracy: 0.4842\n",
            "\n",
            "Epoch 00004: val_accuracy did not improve from 0.48421\n",
            "Epoch 5/50\n",
            "45/45 [==============================] - 5s 108ms/step - loss: 0.6928 - accuracy: 0.5160 - val_loss: 0.6948 - val_accuracy: 0.4842\n",
            "\n",
            "Epoch 00005: val_accuracy did not improve from 0.48421\n",
            "Epoch 6/50\n",
            "45/45 [==============================] - 5s 108ms/step - loss: 0.6940 - accuracy: 0.4974 - val_loss: 0.6947 - val_accuracy: 0.4842\n",
            "\n",
            "Epoch 00006: val_accuracy did not improve from 0.48421\n",
            "Epoch 7/50\n",
            "45/45 [==============================] - 5s 110ms/step - loss: 0.6918 - accuracy: 0.5290 - val_loss: 0.6953 - val_accuracy: 0.4842\n",
            "\n",
            "Epoch 00007: val_accuracy did not improve from 0.48421\n",
            "Epoch 8/50\n",
            "45/45 [==============================] - 5s 107ms/step - loss: 0.6925 - accuracy: 0.5202 - val_loss: 0.6948 - val_accuracy: 0.4842\n",
            "\n",
            "Epoch 00008: val_accuracy did not improve from 0.48421\n"
          ],
          "name": "stdout"
        }
      ]
    },
    {
      "cell_type": "code",
      "metadata": {
        "colab": {
          "base_uri": "https://localhost:8080/",
          "height": 591
        },
        "id": "8Dke0gmfFuGW",
        "outputId": "900c2e61-3d5d-457f-9c7b-18923a0d4fae"
      },
      "source": [
        "import matplotlib.pyplot as plt\n",
        "\n",
        "print(H.history.keys())\n",
        "# summarize history for accuracy\n",
        "plt.plot(H.history['accuracy'])\n",
        "plt.plot(H.history['val_accuracy'])\n",
        "plt.title('model accuracy')\n",
        "plt.ylabel('accuracy')\n",
        "plt.xlabel('epoch')\n",
        "plt.legend(['train', 'test'], loc='upper left')\n",
        "plt.show()\n",
        "# summarize history for loss\n",
        "plt.plot(H.history['loss'])\n",
        "plt.plot(H.history['val_loss'])\n",
        "plt.title('model loss')\n",
        "plt.ylabel('loss')\n",
        "plt.xlabel('epoch')\n",
        "plt.legend(['train', 'test'], loc='upper left')\n",
        "plt.show()"
      ],
      "execution_count": 26,
      "outputs": [
        {
          "output_type": "stream",
          "text": [
            "dict_keys(['loss', 'accuracy', 'val_loss', 'val_accuracy'])\n"
          ],
          "name": "stdout"
        },
        {
          "output_type": "display_data",
          "data": {
            "image/png": "[encoded data removed]",
            "text/plain": [
              "<Figure size 432x288 with 1 Axes>"
            ]
          },
          "metadata": {
            "tags": [],
            "needs_background": "light"
          }
        },
        {
          "output_type": "display_data",
          "data": {
            "image/png": "[encoded data removed]",
            "text/plain": [
              "<Figure size 432x288 with 1 Axes>"
            ]
          },
          "metadata": {
            "tags": [],
            "needs_background": "light"
          }
        }
      ]
    },
    {
      "cell_type": "code",
      "metadata": {
        "colab": {
          "base_uri": "https://localhost:8080/"
        },
        "id": "vUInJd_TGDVs",
        "outputId": "b2ae9b46-4e00-4bea-d17b-c1f8bac3e600"
      },
      "source": [
        "from sklearn.preprocessing import LabelEncoder\n",
        "from sklearn.metrics import confusion_matrix, ConfusionMatrixDisplay, classification_report\n",
        "predictions = model.predict(testX, batch_size=32)\n",
        "print(classification_report(testY,predictions.argmax(axis=1),target_names = train_generator.class_indices))"
      ],
      "execution_count": 27,
      "outputs": [
        {
          "output_type": "stream",
          "text": [
            "              precision    recall  f1-score   support\n",
            "\n",
            "       covid       0.00      0.00      0.00       245\n",
            "      normal       0.48      1.00      0.65       230\n",
            "\n",
            "    accuracy                           0.48       475\n",
            "   macro avg       0.24      0.50      0.33       475\n",
            "weighted avg       0.23      0.48      0.32       475\n",
            "\n"
          ],
          "name": "stdout"
        },
        {
          "output_type": "stream",
          "text": [
            "/usr/local/lib/python3.7/dist-packages/sklearn/metrics/_classification.py:1272: UndefinedMetricWarning: Precision and F-score are ill-defined and being set to 0.0 in labels with no predicted samples. Use `zero_division` parameter to control this behavior.\n",
            "  _warn_prf(average, modifier, msg_start, len(result))\n"
          ],
          "name": "stderr"
        }
      ]
    },
    {
      "cell_type": "code",
      "metadata": {
        "colab": {
          "base_uri": "https://localhost:8080/"
        },
        "id": "AcyrX9DAGSQ5",
        "outputId": "8af729d6-c035-40a2-a135-62f53700439d"
      },
      "source": [
        "cf_matrix = confusion_matrix(testY,predictions.argmax(axis=1))\n",
        "print(cf_matrix)"
      ],
      "execution_count": 28,
      "outputs": [
        {
          "output_type": "stream",
          "text": [
            "[[  0 245]\n",
            " [  0 230]]\n"
          ],
          "name": "stdout"
        }
      ]
    },
    {
      "cell_type": "code",
      "metadata": {
        "colab": {
          "base_uri": "https://localhost:8080/",
          "height": 295
        },
        "id": "wsMaGpzXGSv6",
        "outputId": "1732bb30-bebc-42e3-ed5d-234a3d90eb98"
      },
      "source": [
        "cm = cf_matrix\n",
        "\n",
        "import seaborn as sns\n",
        "import matplotlib.pyplot as plt     \n",
        "ax= plt.subplot();\n",
        "sns.heatmap(cm, annot=True,fmt=\"d\",cmap='Blues')\n",
        "# labels, title and ticks\n",
        "ax.set_xlabel('Predicted label');ax.set_ylabel('True label'); \n",
        "ax.set_ylim(2.0, 0)\n",
        "ax.set_title('Confusion Matrix');\n",
        "ax.xaxis.set_ticklabels(['Covid','Normal']); \n",
        "ax.yaxis.set_ticklabels(['Covid','Normal']);"
      ],
      "execution_count": 29,
      "outputs": [
        {
          "output_type": "display_data",
          "data": {
            "image/png": "[encoded data removed]",
            "text/plain": [
              "<Figure size 432x288 with 2 Axes>"
            ]
          },
          "metadata": {
            "tags": [],
            "needs_background": "light"
          }
        }
      ]
    },
    {
      "cell_type": "code",
      "metadata": {
        "id": "mf7M7MDQFyLI"
      },
      "source": [
        "data2 = []\n",
        "for num,img_name in enumerate(test_generator.filenames): #load image\n",
        "    # gt_ind=test_generator.classes[num] #get the loaded image class index\n",
        "    img=cv2.imread(os.path.join('/content/drive/MyDrive/CLAHEonly/Test/',img_name),-1)\n",
        "    img = cv2.cvtColor(img, cv2.COLOR_BGR2RGB)\n",
        "    img = np.array(img)\n",
        "    data2.append(img)"
      ],
      "execution_count": 31,
      "outputs": []
    },
    {
      "cell_type": "code",
      "metadata": {
        "colab": {
          "base_uri": "https://localhost:8080/",
          "height": 287
        },
        "id": "rjdAza7KF0td",
        "outputId": "1ff1a2be-80ca-4dbc-aef7-bad09f2c2043"
      },
      "source": [
        "plt.imshow(data2[1])"
      ],
      "execution_count": 32,
      "outputs": [
        {
          "output_type": "execute_result",
          "data": {
            "text/plain": [
              "<matplotlib.image.AxesImage at 0x7f6112052090>"
            ]
          },
          "metadata": {
            "tags": []
          },
          "execution_count": 32
        },
        {
          "output_type": "display_data",
          "data": {
            "image/png": "[encoded data removed]",
            "text/plain": [
              "<Figure size 432x288 with 1 Axes>"
            ]
          },
          "metadata": {
            "tags": [],
            "needs_background": "light"
          }
        }
      ]
    },
    {
      "cell_type": "code",
      "metadata": {
        "id": "PUoAxHmkF2Xz"
      },
      "source": [
        ""
      ],
      "execution_count": 33,
      "outputs": []
    },
    {
      "cell_type": "code",
      "metadata": {
        "colab": {
          "base_uri": "https://localhost:8080/"
        },
        "id": "1Ic_u9TQGN03",
        "outputId": "84f9f7f0-4e6b-40f2-af6e-c829e5bfda3a"
      },
      "source": [
        "from sklearn.preprocessing import LabelEncoder\n",
        "from sklearn.metrics import confusion_matrix, ConfusionMatrixDisplay, classification_report\n",
        "predictions = model.predict(valX, batch_size=32)\n",
        "print(classification_report(valY,predictions.argmax(axis=1),target_names = test_generator.class_indices))"
      ],
      "execution_count": 34,
      "outputs": [
        {
          "output_type": "stream",
          "text": [
            "              precision    recall  f1-score   support\n",
            "\n",
            "       covid       0.00      0.00      0.00        93\n",
            "      normal       0.54      1.00      0.70       107\n",
            "\n",
            "    accuracy                           0.54       200\n",
            "   macro avg       0.27      0.50      0.35       200\n",
            "weighted avg       0.29      0.54      0.37       200\n",
            "\n"
          ],
          "name": "stdout"
        },
        {
          "output_type": "stream",
          "text": [
            "/usr/local/lib/python3.7/dist-packages/sklearn/metrics/_classification.py:1272: UndefinedMetricWarning: Precision and F-score are ill-defined and being set to 0.0 in labels with no predicted samples. Use `zero_division` parameter to control this behavior.\n",
            "  _warn_prf(average, modifier, msg_start, len(result))\n"
          ],
          "name": "stderr"
        }
      ]
    },
    {
      "cell_type": "code",
      "metadata": {
        "colab": {
          "base_uri": "https://localhost:8080/"
        },
        "id": "jikXkGvmGVhe",
        "outputId": "86a4c489-beed-4df7-fd3a-e1971eb4996c"
      },
      "source": [
        "cf_matrix = confusion_matrix(valY,predictions.argmax(axis=1))\n",
        "print(cf_matrix)"
      ],
      "execution_count": 35,
      "outputs": [
        {
          "output_type": "stream",
          "text": [
            "[[  0  93]\n",
            " [  0 107]]\n"
          ],
          "name": "stdout"
        }
      ]
    },
    {
      "cell_type": "code",
      "metadata": {
        "colab": {
          "base_uri": "https://localhost:8080/",
          "height": 295
        },
        "id": "52k-9rjmGPxl",
        "outputId": "214adb29-ded5-4b2a-dd96-f7d9d1e66bd4"
      },
      "source": [
        "cm = cf_matrix\n",
        "\n",
        "import seaborn as sns\n",
        "import matplotlib.pyplot as plt     \n",
        "ax= plt.subplot();\n",
        "sns.heatmap(cm, annot=True,fmt=\"d\",cmap='Blues')\n",
        "# labels, title and ticks\n",
        "ax.set_xlabel('Predicted label');ax.set_ylabel('True label'); \n",
        "ax.set_ylim(2.0, 0)\n",
        "ax.set_title('Confusion Matrix');\n",
        "ax.xaxis.set_ticklabels(['Covid','Normal']); \n",
        "ax.yaxis.set_ticklabels(['Covid','Normal']);"
      ],
      "execution_count": 36,
      "outputs": [
        {
          "output_type": "display_data",
          "data": {
            "image/png": "[encoded data removed]",
            "text/plain": [
              "<Figure size 432x288 with 2 Axes>"
            ]
          },
          "metadata": {
            "tags": [],
            "needs_background": "light"
          }
        }
      ]
    },
    {
      "cell_type": "code",
      "metadata": {
        "colab": {
          "base_uri": "https://localhost:8080/"
        },
        "id": "c92oDRvfGw1L",
        "outputId": "712ef20c-d50b-48ee-bf07-897d58771da8"
      },
      "source": [
        "print(\"Evaluate on test data\")\n",
        "results = model.evaluate(valX, valY, batch_size=32)\n",
        "print(\"test loss, test acc:\", results)"
      ],
      "execution_count": 37,
      "outputs": [
        {
          "output_type": "stream",
          "text": [
            "Evaluate on test data\n",
            "7/7 [==============================] - 0s 38ms/step - loss: 0.6917 - accuracy: 0.5350\n",
            "test loss, test acc: [0.6916517615318298, 0.5350000262260437]\n"
          ],
          "name": "stdout"
        }
      ]
    }
  ]
}